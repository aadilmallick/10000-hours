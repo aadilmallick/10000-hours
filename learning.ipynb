{
 "cells": [
  {
   "cell_type": "markdown",
   "metadata": {},
   "source": [
    "# Styling the page\n",
    "\n"
   ]
  },
  {
   "cell_type": "markdown",
   "metadata": {},
   "source": [
    "# Adding Google OAuth"
   ]
  },
  {
   "cell_type": "markdown",
   "metadata": {},
   "source": [
    "## Configuring Google Cloud\n",
    "\n",
    "1. Create a new project in https://console.cloud.google.com/\n",
    "2. Configure consent screen.\n",
    "    1. Select external mode\n",
    "    2. Fill out app name, user support email, and developer contact info.\n",
    "    3. Skip scopes. scopes are not needed for simple authentication.\n",
    "    4. Add test users\n",
    "3. Go to credentials -> create credentials -> create OAuth client id\n",
    "    1. Add both http://localhost and http://localhost:3000 for both the authorized JavaScript Origins and Authorized redirect URIs."
   ]
  },
  {
   "cell_type": "markdown",
   "metadata": {},
   "source": [
    "## Configuring React \n",
    "\n",
    "1. Go into `index.html` and add this script: \n",
    "```html\n",
    "<script src=\"https://accounts.google.com/gsi/client\" defer async></script>\n",
    "```\n",
    "\n",
    "The script above allows you to to get access to implementing google variavles in JavaScript and HTML. It gives access to the global `google` variable in JS.\n"
   ]
  },
  {
   "cell_type": "markdown",
   "metadata": {},
   "source": [
    "### Creating environment variables"
   ]
  },
  {
   "cell_type": "markdown",
   "metadata": {},
   "source": []
  }
 ],
 "metadata": {
  "kernelspec": {
   "display_name": "Python 3.9.12 ('base')",
   "language": "python",
   "name": "python3"
  },
  "language_info": {
   "name": "python",
   "version": "3.9.12"
  },
  "orig_nbformat": 4,
  "vscode": {
   "interpreter": {
    "hash": "42eed9893f4207f75cdc74193046475496f71263a52163f69b046614a46de1fd"
   }
  }
 },
 "nbformat": 4,
 "nbformat_minor": 2
}
